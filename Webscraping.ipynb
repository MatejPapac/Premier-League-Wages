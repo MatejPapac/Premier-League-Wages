{
 "cells": [
  {
   "cell_type": "code",
   "execution_count": 87,
   "metadata": {},
   "outputs": [],
   "source": [
    "import requests\n",
    "from bs4 import BeautifulSoup\n",
    "import pandas as pd"
   ]
  },
  {
   "cell_type": "code",
   "execution_count": 88,
   "metadata": {},
   "outputs": [],
   "source": [
    "premier_url = 'https://fbref.com/en/comps/9/wages/Premier-League-Wages'\n",
    "data = requests.get(premier_url)"
   ]
  },
  {
   "cell_type": "code",
   "execution_count": 89,
   "metadata": {},
   "outputs": [],
   "source": [
    "soup = BeautifulSoup(data.text, 'html.parser')"
   ]
  },
  {
   "cell_type": "code",
   "execution_count": 90,
   "metadata": {},
   "outputs": [],
   "source": [
    "salary_table_html = soup.select('table.stats_table')[1]"
   ]
  },
  {
   "cell_type": "code",
   "execution_count": 91,
   "metadata": {},
   "outputs": [
    {
     "name": "stderr",
     "output_type": "stream",
     "text": [
      "C:\\Users\\matas\\AppData\\Local\\Temp\\ipykernel_20736\\1517590594.py:1: FutureWarning: Passing literal html to 'read_html' is deprecated and will be removed in a future version. To read from a literal string, wrap it in a 'StringIO' object.\n",
      "  df = pd.read_html(str(salary_table_html))[0]\n"
     ]
    }
   ],
   "source": [
    "df = pd.read_html(str(salary_table_html))[0]"
   ]
  },
  {
   "cell_type": "code",
   "execution_count": 92,
   "metadata": {},
   "outputs": [
    {
     "data": {
      "text/html": [
       "<div>\n",
       "<style scoped>\n",
       "    .dataframe tbody tr th:only-of-type {\n",
       "        vertical-align: middle;\n",
       "    }\n",
       "\n",
       "    .dataframe tbody tr th {\n",
       "        vertical-align: top;\n",
       "    }\n",
       "\n",
       "    .dataframe thead th {\n",
       "        text-align: right;\n",
       "    }\n",
       "</style>\n",
       "<table border=\"1\" class=\"dataframe\">\n",
       "  <thead>\n",
       "    <tr style=\"text-align: right;\">\n",
       "      <th></th>\n",
       "      <th>Rk</th>\n",
       "      <th>Player</th>\n",
       "      <th>Nation</th>\n",
       "      <th>Pos</th>\n",
       "      <th>Squad</th>\n",
       "      <th>Age</th>\n",
       "      <th>Weekly Wages</th>\n",
       "      <th>Annual Wages</th>\n",
       "      <th>Notes</th>\n",
       "    </tr>\n",
       "  </thead>\n",
       "  <tbody>\n",
       "    <tr>\n",
       "      <th>0</th>\n",
       "      <td>1</td>\n",
       "      <td>Kevin De Bruyne</td>\n",
       "      <td>be BEL</td>\n",
       "      <td>MF</td>\n",
       "      <td>Manchester City</td>\n",
       "      <td>32</td>\n",
       "      <td>£ 400,000 (€ 468,172, $511,381)</td>\n",
       "      <td>£ 20,800,000 (€ 24,344,950, $26,591,812)</td>\n",
       "      <td>NaN</td>\n",
       "    </tr>\n",
       "    <tr>\n",
       "      <th>1</th>\n",
       "      <td>2</td>\n",
       "      <td>Erling Haaland</td>\n",
       "      <td>no NOR</td>\n",
       "      <td>FW</td>\n",
       "      <td>Manchester City</td>\n",
       "      <td>23</td>\n",
       "      <td>£ 375,000 (€ 438,911, $479,420)</td>\n",
       "      <td>£ 19,500,000 (€ 22,823,391, $24,929,824)</td>\n",
       "      <td>NaN</td>\n",
       "    </tr>\n",
       "    <tr>\n",
       "      <th>2</th>\n",
       "      <td>3</td>\n",
       "      <td>Casemiro</td>\n",
       "      <td>br BRA</td>\n",
       "      <td>MF</td>\n",
       "      <td>Manchester Utd</td>\n",
       "      <td>31</td>\n",
       "      <td>£ 350,000 (€ 409,651, $447,458)</td>\n",
       "      <td>£ 18,200,000 (€ 21,301,831, $23,267,836)</td>\n",
       "      <td>NaN</td>\n",
       "    </tr>\n",
       "    <tr>\n",
       "      <th>3</th>\n",
       "      <td>4</td>\n",
       "      <td>Mohamed Salah</td>\n",
       "      <td>eg EGY</td>\n",
       "      <td>FW</td>\n",
       "      <td>Liverpool</td>\n",
       "      <td>31</td>\n",
       "      <td>£ 350,000 (€ 409,651, $447,458)</td>\n",
       "      <td>£ 18,200,000 (€ 21,301,831, $23,267,836)</td>\n",
       "      <td>NaN</td>\n",
       "    </tr>\n",
       "    <tr>\n",
       "      <th>4</th>\n",
       "      <td>5</td>\n",
       "      <td>Raphaël Varane</td>\n",
       "      <td>fr FRA</td>\n",
       "      <td>DF</td>\n",
       "      <td>Manchester Utd</td>\n",
       "      <td>30</td>\n",
       "      <td>£ 340,000 (€ 397,946, $434,674)</td>\n",
       "      <td>£ 17,680,000 (€ 20,693,208, $22,603,040)</td>\n",
       "      <td>NaN</td>\n",
       "    </tr>\n",
       "  </tbody>\n",
       "</table>\n",
       "</div>"
      ],
      "text/plain": [
       "   Rk           Player  Nation Pos            Squad  Age  \\\n",
       "0   1  Kevin De Bruyne  be BEL  MF  Manchester City   32   \n",
       "1   2   Erling Haaland  no NOR  FW  Manchester City   23   \n",
       "2   3         Casemiro  br BRA  MF   Manchester Utd   31   \n",
       "3   4    Mohamed Salah  eg EGY  FW        Liverpool   31   \n",
       "4   5   Raphaël Varane  fr FRA  DF   Manchester Utd   30   \n",
       "\n",
       "                      Weekly Wages                              Annual Wages  \\\n",
       "0  £ 400,000 (€ 468,172, $511,381)  £ 20,800,000 (€ 24,344,950, $26,591,812)   \n",
       "1  £ 375,000 (€ 438,911, $479,420)  £ 19,500,000 (€ 22,823,391, $24,929,824)   \n",
       "2  £ 350,000 (€ 409,651, $447,458)  £ 18,200,000 (€ 21,301,831, $23,267,836)   \n",
       "3  £ 350,000 (€ 409,651, $447,458)  £ 18,200,000 (€ 21,301,831, $23,267,836)   \n",
       "4  £ 340,000 (€ 397,946, $434,674)  £ 17,680,000 (€ 20,693,208, $22,603,040)   \n",
       "\n",
       "  Notes  \n",
       "0   NaN  \n",
       "1   NaN  \n",
       "2   NaN  \n",
       "3   NaN  \n",
       "4   NaN  "
      ]
     },
     "execution_count": 92,
     "metadata": {},
     "output_type": "execute_result"
    }
   ],
   "source": [
    "df.head()"
   ]
  },
  {
   "cell_type": "code",
   "execution_count": 93,
   "metadata": {},
   "outputs": [
    {
     "data": {
      "text/plain": [
       "array(['be BEL', 'no NOR', 'br BRA', 'eg EGY', 'fr FRA', 'eng ENG',\n",
       "       'pt POR', 'de GER', 'nl NED', 'es ESP', 'gh GHA', 'hr CRO',\n",
       "       'kr KOR', 'ch SUI', 'ar ARG', 'ua UKR', 'dk DEN', 'ec ECU',\n",
       "       'uy URU', 'ml MLI', 'cm CMR', 'se SWE', 'hu HUN', 'sct SCO',\n",
       "       'it ITA', 'mx MEX', 'jm JAM', nan, 'cz CZE', 'ro ROU', 'wls WAL',\n",
       "       'pl POL', 'jp JPN', 'sn SEN', 'nz NZL', 'ng NGA', 'bf BFA',\n",
       "       'gr GRE', 'ci CIV', 'co COL', 'nir NIR', 'ma MAR', 'rs SRB',\n",
       "       'il ISR', 'us USA', 'py PAR', 'dz ALG', 'ie IRL', 'gw GNB',\n",
       "       'ga GAB', 'sk SVK', 'al ALB', 'tr TUR', 'cl CHI', 'at AUT',\n",
       "       'is ISL', 'za RSA', 'ba BIH', 'zw ZIM', 'xk KVX', 'cd COD',\n",
       "       'ca CAN', 'ir IRN', 'gd GRN', 'ee EST', 'mk MKD', 'tg TOG',\n",
       "       'au AUS'], dtype=object)"
      ]
     },
     "execution_count": 93,
     "metadata": {},
     "output_type": "execute_result"
    }
   ],
   "source": [
    "df['Nation'].unique()"
   ]
  },
  {
   "cell_type": "code",
   "execution_count": 94,
   "metadata": {},
   "outputs": [
    {
     "ename": "IndexError",
     "evalue": "list index out of range",
     "output_type": "error",
     "traceback": [
      "\u001b[1;31m---------------------------------------------------------------------------\u001b[0m",
      "\u001b[1;31mIndexError\u001b[0m                                Traceback (most recent call last)",
      "Cell \u001b[1;32mIn[94], line 31\u001b[0m\n\u001b[0;32m     29\u001b[0m     season \u001b[38;5;241m=\u001b[39m \u001b[38;5;124mf\u001b[39m\u001b[38;5;124m'\u001b[39m\u001b[38;5;132;01m{\u001b[39;00mend_year\u001b[38;5;241m-\u001b[39m\u001b[38;5;241m1\u001b[39m\u001b[38;5;132;01m}\u001b[39;00m\u001b[38;5;124m-\u001b[39m\u001b[38;5;132;01m{\u001b[39;00mend_year\u001b[38;5;132;01m}\u001b[39;00m\u001b[38;5;124m'\u001b[39m\n\u001b[0;32m     30\u001b[0m     \u001b[38;5;66;03m# Fetch and append the season data\u001b[39;00m\n\u001b[1;32m---> 31\u001b[0m     season_df \u001b[38;5;241m=\u001b[39m \u001b[43mfetch_season_data\u001b[49m\u001b[43m(\u001b[49m\u001b[43mseason\u001b[49m\u001b[43m)\u001b[49m\n\u001b[0;32m     32\u001b[0m     all_seasons_df \u001b[38;5;241m=\u001b[39m pd\u001b[38;5;241m.\u001b[39mconcat([all_seasons_df, season_df], ignore_index\u001b[38;5;241m=\u001b[39m\u001b[38;5;28;01mTrue\u001b[39;00m)\n\u001b[0;32m     34\u001b[0m \u001b[38;5;66;03m# Check the combined DataFrame\u001b[39;00m\n",
      "Cell \u001b[1;32mIn[94], line 13\u001b[0m, in \u001b[0;36mfetch_season_data\u001b[1;34m(season)\u001b[0m\n\u001b[0;32m     11\u001b[0m \u001b[38;5;66;03m# Check if the expected table is found\u001b[39;00m\n\u001b[0;32m     12\u001b[0m \u001b[38;5;28;01mif\u001b[39;00m soup\u001b[38;5;241m.\u001b[39mselect(\u001b[38;5;124m'\u001b[39m\u001b[38;5;124mtable.stats_table\u001b[39m\u001b[38;5;124m'\u001b[39m):\n\u001b[1;32m---> 13\u001b[0m     salary_table_html \u001b[38;5;241m=\u001b[39m \u001b[43msoup\u001b[49m\u001b[38;5;241;43m.\u001b[39;49m\u001b[43mselect\u001b[49m\u001b[43m(\u001b[49m\u001b[38;5;124;43m'\u001b[39;49m\u001b[38;5;124;43mtable.stats_table\u001b[39;49m\u001b[38;5;124;43m'\u001b[39;49m\u001b[43m)\u001b[49m\u001b[43m[\u001b[49m\u001b[38;5;241;43m1\u001b[39;49m\u001b[43m]\u001b[49m\n\u001b[0;32m     14\u001b[0m     \u001b[38;5;66;03m# Pandas read_html now takes an IO stream, so we use StringIO here\u001b[39;00m\n\u001b[0;32m     15\u001b[0m     df \u001b[38;5;241m=\u001b[39m pd\u001b[38;5;241m.\u001b[39mread_html(StringIO(salary_table_html\u001b[38;5;241m.\u001b[39mprettify()))[\u001b[38;5;241m0\u001b[39m]\n",
      "\u001b[1;31mIndexError\u001b[0m: list index out of range"
     ]
    }
   ],
   "source": [
    "from io import StringIO\n",
    "\n",
    "def fetch_season_data(season):\n",
    "    # Generate the URL for a given season\n",
    "    url = f'https://fbref.com/en/comps/9/{season}/wages/{season}-Premier-League-Wages'\n",
    "    data = requests.get(url)\n",
    "    \n",
    "    # Check if the request was successful\n",
    "    if data.status_code == 200:\n",
    "        soup = BeautifulSoup(data.text, 'html.parser')\n",
    "        # Check if the expected table is found\n",
    "        if soup.select('table.stats_table'):\n",
    "            salary_table_html = soup.select('table.stats_table')[1]\n",
    "            # Pandas read_html now takes an IO stream, so we use StringIO here\n",
    "            df = pd.read_html(StringIO(salary_table_html.prettify()))[0]\n",
    "            df['Season'] = season  # Add a season column\n",
    "            return df\n",
    "        else:\n",
    "            print(f'Table for season {season} not found on page.')\n",
    "            return pd.DataFrame()  # Return an empty DataFrame if table is not found\n",
    "    else:\n",
    "        print(f'Data for season {season} not found with status code {data.status_code}.')\n",
    "        return pd.DataFrame()  # Return an empty DataFrame if data is not found\n",
    "    all_seasons_df = pd.DataFrame()\n",
    "\n",
    "# Loop through the seasons from 2023/24 to 2006/07\n",
    "for end_year in range(2024, 2006, -1):  # Change to 2025 if you need the 2024/2025 season\n",
    "    # Convert end year to season string\n",
    "    season = f'{end_year-1}-{end_year}'\n",
    "    # Fetch and append the season data\n",
    "    season_df = fetch_season_data(season)\n",
    "    all_seasons_df = pd.concat([all_seasons_df, season_df], ignore_index=True)\n",
    "\n",
    "# Check the combined DataFrame\n",
    "print(all_seasons_df.head())\n",
    "\n",
    "# Export to CSV if needed\n",
    " all_seasons_df.to_csv('premier_league_wages_2006_2023.csv', index=False)\n"
   ]
  },
  {
   "cell_type": "code",
   "execution_count": 96,
   "metadata": {},
   "outputs": [
    {
     "name": "stdout",
     "output_type": "stream",
     "text": [
      "<class 'pandas.core.frame.DataFrame'>\n",
      "RangeIndex: 19443 entries, 0 to 19442\n",
      "Data columns (total 10 columns):\n",
      " #   Column        Non-Null Count  Dtype \n",
      "---  ------        --------------  ----- \n",
      " 0   Rk            19443 non-null  int64 \n",
      " 1   Player        19443 non-null  object\n",
      " 2   Nation        19146 non-null  object\n",
      " 3   Pos           18321 non-null  object\n",
      " 4   Squad         19443 non-null  object\n",
      " 5   Age           19443 non-null  int64 \n",
      " 6   Weekly Wages  19443 non-null  object\n",
      " 7   Annual Wages  19443 non-null  object\n",
      " 8   Notes         14637 non-null  object\n",
      " 9   Season        19443 non-null  object\n",
      "dtypes: int64(2), object(8)\n",
      "memory usage: 1.5+ MB\n"
     ]
    }
   ],
   "source": [
    "all_seasons_df.info()"
   ]
  },
  {
   "cell_type": "code",
   "execution_count": 97,
   "metadata": {},
   "outputs": [],
   "source": [
    " all_seasons_df.to_csv('premier_league_wages_2006_2023.csv', index=False)"
   ]
  },
  {
   "cell_type": "code",
   "execution_count": null,
   "metadata": {},
   "outputs": [],
   "source": []
  },
  {
   "cell_type": "code",
   "execution_count": null,
   "metadata": {},
   "outputs": [],
   "source": []
  },
  {
   "cell_type": "code",
   "execution_count": null,
   "metadata": {},
   "outputs": [],
   "source": []
  },
  {
   "cell_type": "code",
   "execution_count": null,
   "metadata": {},
   "outputs": [],
   "source": []
  },
  {
   "cell_type": "code",
   "execution_count": null,
   "metadata": {},
   "outputs": [],
   "source": []
  },
  {
   "cell_type": "code",
   "execution_count": null,
   "metadata": {},
   "outputs": [],
   "source": []
  },
  {
   "cell_type": "code",
   "execution_count": null,
   "metadata": {},
   "outputs": [],
   "source": []
  },
  {
   "cell_type": "code",
   "execution_count": null,
   "metadata": {},
   "outputs": [],
   "source": []
  },
  {
   "cell_type": "code",
   "execution_count": null,
   "metadata": {},
   "outputs": [],
   "source": []
  },
  {
   "cell_type": "code",
   "execution_count": null,
   "metadata": {},
   "outputs": [],
   "source": []
  },
  {
   "cell_type": "code",
   "execution_count": null,
   "metadata": {},
   "outputs": [],
   "source": []
  },
  {
   "cell_type": "code",
   "execution_count": null,
   "metadata": {},
   "outputs": [],
   "source": []
  }
 ],
 "metadata": {
  "kernelspec": {
   "display_name": "Python 3",
   "language": "python",
   "name": "python3"
  },
  "language_info": {
   "codemirror_mode": {
    "name": "ipython",
    "version": 3
   },
   "file_extension": ".py",
   "mimetype": "text/x-python",
   "name": "python",
   "nbconvert_exporter": "python",
   "pygments_lexer": "ipython3",
   "version": "3.12.2"
  }
 },
 "nbformat": 4,
 "nbformat_minor": 2
}
